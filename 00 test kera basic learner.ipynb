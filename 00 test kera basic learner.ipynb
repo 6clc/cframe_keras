{
 "cells": [
  {
   "cell_type": "code",
   "execution_count": 1,
   "metadata": {},
   "outputs": [],
   "source": [
    "from cframe.data_generator import DataConfiger\n",
    "from cframe.data_generator import ClassificationGeneratorManager\n",
    "from cframe.learner import BasicLearner\n",
    "from cframe.models import ModelConfiger\n",
    "from cframe.models import ModelManager"
   ]
  },
  {
   "cell_type": "markdown",
   "metadata": {},
   "source": [
    "# 环境"
   ]
  },
  {
   "cell_type": "markdown",
   "metadata": {},
   "source": [
    "\n",
    "# 数据"
   ]
  },
  {
   "cell_type": "code",
   "execution_count": 2,
   "metadata": {},
   "outputs": [
    {
     "data": {
      "text/plain": [
       "dict_keys(['CamVid', 'leaf', 'DUT', 'MSRA_B', 'SOC6k', 'InstanceSaliency1000', 'ECSSD', 'MSRA_B_InstanceSaliency1000'])"
      ]
     },
     "execution_count": 2,
     "metadata": {},
     "output_type": "execute_result"
    }
   ],
   "source": [
    "DataConfiger.get_all_data_name()"
   ]
  },
  {
   "cell_type": "code",
   "execution_count": 3,
   "metadata": {
    "collapsed": true
   },
   "outputs": [
    {
     "data": {
      "text/plain": [
       "{'root_dir': '/Volumes/data2/Data',\n",
       " 'dataset_dir': 'DataSets',\n",
       " 'data_name': 'leaf-classification',\n",
       " 'csv_dir': 'CSVs',\n",
       " 'n_classes': 20,\n",
       " 'batch_size': 4,\n",
       " 'dim': (224, 224),\n",
       " 'n_channels': 3,\n",
       " 'data_info': {'dir': 'leaf-classification',\n",
       "  'n_classes': 99,\n",
       "  'columns': ['img', 'label']},\n",
       " 'label_name': 'segment'}"
      ]
     },
     "execution_count": 3,
     "metadata": {},
     "output_type": "execute_result"
    }
   ],
   "source": [
    "data_config = DataConfiger.get_data_config('leaf')\n",
    "data_config"
   ]
  },
  {
   "cell_type": "code",
   "execution_count": 4,
   "metadata": {},
   "outputs": [],
   "source": [
    "dl_manager = ClassificationGeneratorManager(data_config)"
   ]
  },
  {
   "cell_type": "markdown",
   "metadata": {},
   "source": [
    "# 模型"
   ]
  },
  {
   "cell_type": "code",
   "execution_count": 5,
   "metadata": {},
   "outputs": [
    {
     "data": {
      "text/plain": [
       "dict_keys(['simplenet'])"
      ]
     },
     "execution_count": 5,
     "metadata": {},
     "output_type": "execute_result"
    }
   ],
   "source": [
    "ModelConfiger.get_model_names()"
   ]
  },
  {
   "cell_type": "code",
   "execution_count": 6,
   "metadata": {
    "collapsed": true
   },
   "outputs": [
    {
     "data": {
      "text/plain": [
       "{'name': 'simplenet',\n",
       " 'model': <function cframe.models.classification.simplenet.simplenet.SimpleNet(config)>,\n",
       " 'config': {'input_shape': (224, 224, 3)}}"
      ]
     },
     "execution_count": 6,
     "metadata": {},
     "output_type": "execute_result"
    }
   ],
   "source": [
    "model_config = ModelConfiger.get_model_config('simplenet')\n",
    "model_config"
   ]
  },
  {
   "cell_type": "code",
   "execution_count": 7,
   "metadata": {},
   "outputs": [],
   "source": [
    "model_manager = ModelManager(model_config)"
   ]
  },
  {
   "cell_type": "markdown",
   "metadata": {},
   "source": [
    "# learner"
   ]
  },
  {
   "cell_type": "code",
   "execution_count": 8,
   "metadata": {},
   "outputs": [],
   "source": [
    "learner = BasicLearner(model_manager, dl_manager, \n",
    "                       loss='sparse_categorical_crossentropy',\n",
    "                    optimizer='adam',\n",
    "                    metrics=['accuracy'])"
   ]
  },
  {
   "cell_type": "code",
   "execution_count": 9,
   "metadata": {
    "scrolled": false
   },
   "outputs": [
    {
     "name": "stdout",
     "output_type": "stream",
     "text": [
      "Epoch 1/10\n",
      "198/198 [==============================] - 53s 268ms/step - loss: 3.9853 - accuracy: 0.1528 - val_loss: 2.7262 - val_accuracy: 0.3673\n",
      "Epoch 2/10\n",
      "198/198 [==============================] - 51s 259ms/step - loss: 0.7954 - accuracy: 0.7891 - val_loss: 2.6450 - val_accuracy: 0.3878\n",
      "Epoch 3/10\n",
      "198/198 [==============================] - 49s 249ms/step - loss: 0.0798 - accuracy: 0.9785 - val_loss: 2.7110 - val_accuracy: 0.4949\n",
      "Epoch 4/10\n",
      "198/198 [==============================] - 51s 256ms/step - loss: 0.0298 - accuracy: 0.9924 - val_loss: 2.6612 - val_accuracy: 0.5255\n",
      "Epoch 5/10\n",
      "198/198 [==============================] - 49s 249ms/step - loss: 0.0018 - accuracy: 0.9987 - val_loss: 2.9487 - val_accuracy: 0.4898\n",
      "Epoch 6/10\n",
      "198/198 [==============================] - 49s 250ms/step - loss: 0.0014 - accuracy: 1.0000 - val_loss: 2.9666 - val_accuracy: 0.5153\n",
      "Epoch 7/10\n",
      "198/198 [==============================] - 50s 253ms/step - loss: 2.8598e-04 - accuracy: 1.0000 - val_loss: 3.0479 - val_accuracy: 0.5051\n",
      "Epoch 8/10\n",
      "198/198 [==============================] - 50s 255ms/step - loss: 1.8543e-04 - accuracy: 1.0000 - val_loss: 3.1174 - val_accuracy: 0.5102\n",
      "Epoch 9/10\n",
      "198/198 [==============================] - 50s 252ms/step - loss: 1.3438e-04 - accuracy: 1.0000 - val_loss: 3.1765 - val_accuracy: 0.5102\n",
      "Epoch 10/10\n",
      "198/198 [==============================] - 50s 252ms/step - loss: 1.0317e-04 - accuracy: 1.0000 - val_loss: 3.2280 - val_accuracy: 0.5051\n"
     ]
    }
   ],
   "source": [
    "history = learner.train(10)"
   ]
  },
  {
   "cell_type": "code",
   "execution_count": null,
   "metadata": {},
   "outputs": [],
   "source": [
    " "
   ]
  }
 ],
 "metadata": {
  "kernelspec": {
   "display_name": "keras",
   "language": "python",
   "name": "keras"
  },
  "language_info": {
   "codemirror_mode": {
    "name": "ipython",
    "version": 3
   },
   "file_extension": ".py",
   "mimetype": "text/x-python",
   "name": "python",
   "nbconvert_exporter": "python",
   "pygments_lexer": "ipython3",
   "version": "3.7.4"
  },
  "toc": {
   "base_numbering": 1,
   "nav_menu": {},
   "number_sections": true,
   "sideBar": true,
   "skip_h1_title": false,
   "title_cell": "Table of Contents",
   "title_sidebar": "Contents",
   "toc_cell": false,
   "toc_position": {},
   "toc_section_display": true,
   "toc_window_display": false
  }
 },
 "nbformat": 4,
 "nbformat_minor": 2
}
