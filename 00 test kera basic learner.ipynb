{
 "cells": [
  {
   "cell_type": "code",
   "execution_count": 1,
   "metadata": {},
   "outputs": [
    {
     "name": "stderr",
     "output_type": "stream",
     "text": [
      "Using TensorFlow backend.\n"
     ]
    }
   ],
   "source": [
    "from cframe.data_generator import DataConfiger\n",
    "from cframe.data_generator import ClassificationGeneratorManager"
   ]
  },
  {
   "cell_type": "code",
   "execution_count": 2,
   "metadata": {},
   "outputs": [
    {
     "data": {
      "text/plain": [
       "dict_keys(['CamVid', 'leaf', 'DUT', 'MSRA_B', 'SOC6k', 'InstanceSaliency1000', 'ECSSD', 'MSRA_B_InstanceSaliency1000'])"
      ]
     },
     "execution_count": 2,
     "metadata": {},
     "output_type": "execute_result"
    }
   ],
   "source": [
    "DataConfiger.get_all_data_name()"
   ]
  },
  {
   "cell_type": "code",
   "execution_count": 3,
   "metadata": {},
   "outputs": [
    {
     "data": {
      "text/plain": [
       "{'root_dir': '/Volumes/data2/Data',\n",
       " 'dataset_dir': 'DataSets',\n",
       " 'data_name': 'leaf-classification',\n",
       " 'csv_dir': 'CSVs',\n",
       " 'n_classes': 20,\n",
       " 'batch_size': 4,\n",
       " 'dim': (224, 224),\n",
       " 'n_channels': 3,\n",
       " 'data_info': {'dir': 'leaf-classification',\n",
       "  'n_classes': 99,\n",
       "  'columns': ['img', 'label']},\n",
       " 'label_name': 'segment'}"
      ]
     },
     "execution_count": 3,
     "metadata": {},
     "output_type": "execute_result"
    }
   ],
   "source": [
    "data_config = DataConfiger.get_data_config('leaf')\n",
    "data_config"
   ]
  },
  {
   "cell_type": "code",
   "execution_count": 4,
   "metadata": {},
   "outputs": [],
   "source": [
    "dl_manager = ClassificationGeneratorManager(data_config)"
   ]
  },
  {
   "cell_type": "code",
   "execution_count": 5,
   "metadata": {},
   "outputs": [],
   "source": [
    "from cframe.models import ModelConfiger\n",
    "from cframe.models import ModelManager"
   ]
  },
  {
   "cell_type": "code",
   "execution_count": 6,
   "metadata": {},
   "outputs": [
    {
     "data": {
      "text/plain": [
       "dict_keys(['simplenet'])"
      ]
     },
     "execution_count": 6,
     "metadata": {},
     "output_type": "execute_result"
    }
   ],
   "source": [
    "ModelConfiger.get_model_names()"
   ]
  },
  {
   "cell_type": "code",
   "execution_count": 7,
   "metadata": {},
   "outputs": [
    {
     "data": {
      "text/plain": [
       "{'name': 'simplenet',\n",
       " 'model': <function cframe.models.classification.simplenet.simplenet.SimpleNet(config)>,\n",
       " 'config': {'input_shape': (224, 224, 3)}}"
      ]
     },
     "execution_count": 7,
     "metadata": {},
     "output_type": "execute_result"
    }
   ],
   "source": [
    "model_config = ModelConfiger.get_model_config('simplenet')\n",
    "model_config"
   ]
  },
  {
   "cell_type": "code",
   "execution_count": 8,
   "metadata": {},
   "outputs": [],
   "source": [
    "model_manager = ModelManager(model_config)"
   ]
  },
  {
   "cell_type": "code",
   "execution_count": 9,
   "metadata": {},
   "outputs": [],
   "source": [
    "from cframe.learner import BasicLearner"
   ]
  },
  {
   "cell_type": "code",
   "execution_count": 10,
   "metadata": {},
   "outputs": [],
   "source": [
    "learner = BasicLearner(model_manager, dl_manager)"
   ]
  },
  {
   "cell_type": "code",
   "execution_count": 11,
   "metadata": {},
   "outputs": [],
   "source": [
    "model = learner.model"
   ]
  },
  {
   "cell_type": "code",
   "execution_count": 12,
   "metadata": {
    "scrolled": false
   },
   "outputs": [
    {
     "name": "stdout",
     "output_type": "stream",
     "text": [
      "Model: \"sequential\"\n",
      "_________________________________________________________________\n",
      "Layer (type)                 Output Shape              Param #   \n",
      "=================================================================\n",
      "conv2d (Conv2D)              (None, 222, 222, 32)      896       \n",
      "_________________________________________________________________\n",
      "max_pooling2d (MaxPooling2D) (None, 111, 111, 32)      0         \n",
      "_________________________________________________________________\n",
      "conv2d_1 (Conv2D)            (None, 109, 109, 32)      9248      \n",
      "_________________________________________________________________\n",
      "max_pooling2d_1 (MaxPooling2 (None, 54, 54, 32)        0         \n",
      "_________________________________________________________________\n",
      "flatten (Flatten)            (None, 93312)             0         \n",
      "_________________________________________________________________\n",
      "dense (Dense)                (None, 128)               11944064  \n",
      "_________________________________________________________________\n",
      "dense_1 (Dense)              (None, 6)                 774       \n",
      "=================================================================\n",
      "Total params: 11,954,982\n",
      "Trainable params: 11,954,982\n",
      "Non-trainable params: 0\n",
      "_________________________________________________________________\n"
     ]
    }
   ],
   "source": [
    "model.summary()"
   ]
  },
  {
   "cell_type": "code",
   "execution_count": 13,
   "metadata": {},
   "outputs": [
    {
     "ename": "AttributeError",
     "evalue": "'ClassificationGenerator' object has no attribute 'shape'",
     "output_type": "error",
     "traceback": [
      "\u001b[0;31m---------------------------------------------------------------------------\u001b[0m",
      "\u001b[0;31mAttributeError\u001b[0m                            Traceback (most recent call last)",
      "\u001b[0;32m<ipython-input-13-8089e0a7ae23>\u001b[0m in \u001b[0;36m<module>\u001b[0;34m\u001b[0m\n\u001b[1;32m      4\u001b[0m     \u001b[0muse_multiprocessing\u001b[0m\u001b[0;34m=\u001b[0m\u001b[0;32mFalse\u001b[0m\u001b[0;34m,\u001b[0m\u001b[0;34m\u001b[0m\u001b[0;34m\u001b[0m\u001b[0m\n\u001b[1;32m      5\u001b[0m     \u001b[0mworkers\u001b[0m\u001b[0;34m=\u001b[0m\u001b[0;36m1\u001b[0m\u001b[0;34m,\u001b[0m\u001b[0;34m\u001b[0m\u001b[0;34m\u001b[0m\u001b[0m\n\u001b[0;32m----> 6\u001b[0;31m     \u001b[0mepochs\u001b[0m\u001b[0;34m=\u001b[0m\u001b[0;36m7\u001b[0m\u001b[0;34m\u001b[0m\u001b[0;34m\u001b[0m\u001b[0m\n\u001b[0m\u001b[1;32m      7\u001b[0m )\n",
      "\u001b[0;32m~/keras/lib/python3.7/site-packages/tensorflow_core/python/keras/engine/training.py\u001b[0m in \u001b[0;36mfit_generator\u001b[0;34m(self, generator, steps_per_epoch, epochs, verbose, callbacks, validation_data, validation_steps, validation_freq, class_weight, max_queue_size, workers, use_multiprocessing, shuffle, initial_epoch)\u001b[0m\n\u001b[1;32m   1295\u001b[0m         \u001b[0mshuffle\u001b[0m\u001b[0;34m=\u001b[0m\u001b[0mshuffle\u001b[0m\u001b[0;34m,\u001b[0m\u001b[0;34m\u001b[0m\u001b[0;34m\u001b[0m\u001b[0m\n\u001b[1;32m   1296\u001b[0m         \u001b[0minitial_epoch\u001b[0m\u001b[0;34m=\u001b[0m\u001b[0minitial_epoch\u001b[0m\u001b[0;34m,\u001b[0m\u001b[0;34m\u001b[0m\u001b[0;34m\u001b[0m\u001b[0m\n\u001b[0;32m-> 1297\u001b[0;31m         steps_name='steps_per_epoch')\n\u001b[0m\u001b[1;32m   1298\u001b[0m \u001b[0;34m\u001b[0m\u001b[0m\n\u001b[1;32m   1299\u001b[0m   def evaluate_generator(self,\n",
      "\u001b[0;32m~/keras/lib/python3.7/site-packages/tensorflow_core/python/keras/engine/training_generator.py\u001b[0m in \u001b[0;36mmodel_iteration\u001b[0;34m(model, data, steps_per_epoch, epochs, verbose, callbacks, validation_data, validation_steps, validation_freq, class_weight, max_queue_size, workers, use_multiprocessing, shuffle, initial_epoch, mode, batch_size, steps_name, **kwargs)\u001b[0m\n\u001b[1;32m    142\u001b[0m       \u001b[0mbatch_size\u001b[0m\u001b[0;34m=\u001b[0m\u001b[0mbatch_size\u001b[0m\u001b[0;34m,\u001b[0m\u001b[0;34m\u001b[0m\u001b[0;34m\u001b[0m\u001b[0m\n\u001b[1;32m    143\u001b[0m       \u001b[0mepochs\u001b[0m\u001b[0;34m=\u001b[0m\u001b[0mepochs\u001b[0m \u001b[0;34m-\u001b[0m \u001b[0minitial_epoch\u001b[0m\u001b[0;34m,\u001b[0m\u001b[0;34m\u001b[0m\u001b[0;34m\u001b[0m\u001b[0m\n\u001b[0;32m--> 144\u001b[0;31m       shuffle=shuffle)\n\u001b[0m\u001b[1;32m    145\u001b[0m \u001b[0;34m\u001b[0m\u001b[0m\n\u001b[1;32m    146\u001b[0m   \u001b[0mdo_validation\u001b[0m \u001b[0;34m=\u001b[0m \u001b[0mvalidation_data\u001b[0m \u001b[0;32mis\u001b[0m \u001b[0;32mnot\u001b[0m \u001b[0;32mNone\u001b[0m\u001b[0;34m\u001b[0m\u001b[0;34m\u001b[0m\u001b[0m\n",
      "\u001b[0;32m~/keras/lib/python3.7/site-packages/tensorflow_core/python/keras/engine/training_generator.py\u001b[0m in \u001b[0;36mconvert_to_generator_like\u001b[0;34m(data, batch_size, steps_per_epoch, epochs, shuffle)\u001b[0m\n\u001b[1;32m    475\u001b[0m \u001b[0;34m\u001b[0m\u001b[0m\n\u001b[1;32m    476\u001b[0m   \u001b[0;31m# Create generator from NumPy or EagerTensor Input.\u001b[0m\u001b[0;34m\u001b[0m\u001b[0;34m\u001b[0m\u001b[0;34m\u001b[0m\u001b[0m\n\u001b[0;32m--> 477\u001b[0;31m   \u001b[0mnum_samples\u001b[0m \u001b[0;34m=\u001b[0m \u001b[0mint\u001b[0m\u001b[0;34m(\u001b[0m\u001b[0mnest\u001b[0m\u001b[0;34m.\u001b[0m\u001b[0mflatten\u001b[0m\u001b[0;34m(\u001b[0m\u001b[0mdata\u001b[0m\u001b[0;34m)\u001b[0m\u001b[0;34m[\u001b[0m\u001b[0;36m0\u001b[0m\u001b[0;34m]\u001b[0m\u001b[0;34m.\u001b[0m\u001b[0mshape\u001b[0m\u001b[0;34m[\u001b[0m\u001b[0;36m0\u001b[0m\u001b[0;34m]\u001b[0m\u001b[0;34m)\u001b[0m\u001b[0;34m\u001b[0m\u001b[0;34m\u001b[0m\u001b[0m\n\u001b[0m\u001b[1;32m    478\u001b[0m   \u001b[0;32mif\u001b[0m \u001b[0mbatch_size\u001b[0m \u001b[0;32mis\u001b[0m \u001b[0;32mNone\u001b[0m\u001b[0;34m:\u001b[0m\u001b[0;34m\u001b[0m\u001b[0;34m\u001b[0m\u001b[0m\n\u001b[1;32m    479\u001b[0m     raise ValueError(\n",
      "\u001b[0;31mAttributeError\u001b[0m: 'ClassificationGenerator' object has no attribute 'shape'"
     ]
    }
   ],
   "source": [
    "history = model.fit_generator(\n",
    "    learner.train_dl,\n",
    "    validation_data=learner.valid_dl,\n",
    "    use_multiprocessing=False,\n",
    "    workers=1,\n",
    "    epochs=7\n",
    ")"
   ]
  },
  {
   "cell_type": "code",
   "execution_count": null,
   "metadata": {},
   "outputs": [],
   "source": [
    "len(learner.train_dl)"
   ]
  },
  {
   "cell_type": "code",
   "execution_count": 14,
   "metadata": {},
   "outputs": [],
   "source": [
    "train_dl = learner.train_dl"
   ]
  },
  {
   "cell_type": "code",
   "execution_count": 16,
   "metadata": {
    "scrolled": false
   },
   "outputs": [
    {
     "name": "stdout",
     "output_type": "stream",
     "text": [
      "(4, 224, 224, 3)\n",
      "(4, 224, 224, 3)\n",
      "(4, 224, 224, 3)\n",
      "(4, 224, 224, 3)\n",
      "(4, 224, 224, 3)\n",
      "(4, 224, 224, 3)\n",
      "(4, 224, 224, 3)\n",
      "(4, 224, 224, 3)\n",
      "(4, 224, 224, 3)\n",
      "(4, 224, 224, 3)\n",
      "(4, 224, 224, 3)\n",
      "(4, 224, 224, 3)\n",
      "(4, 224, 224, 3)\n",
      "(4, 224, 224, 3)\n",
      "(4, 224, 224, 3)\n",
      "(4, 224, 224, 3)\n",
      "(4, 224, 224, 3)\n",
      "(4, 224, 224, 3)\n",
      "(4, 224, 224, 3)\n",
      "(4, 224, 224, 3)\n",
      "(4, 224, 224, 3)\n",
      "(4, 224, 224, 3)\n",
      "(4, 224, 224, 3)\n",
      "(4, 224, 224, 3)\n",
      "(4, 224, 224, 3)\n",
      "(4, 224, 224, 3)\n",
      "(4, 224, 224, 3)\n",
      "(4, 224, 224, 3)\n",
      "(4, 224, 224, 3)\n",
      "(4, 224, 224, 3)\n",
      "(4, 224, 224, 3)\n",
      "(4, 224, 224, 3)\n",
      "(4, 224, 224, 3)\n",
      "(4, 224, 224, 3)\n",
      "(4, 224, 224, 3)\n",
      "(4, 224, 224, 3)\n",
      "(4, 224, 224, 3)\n",
      "(4, 224, 224, 3)\n",
      "(4, 224, 224, 3)\n",
      "(4, 224, 224, 3)\n",
      "(4, 224, 224, 3)\n",
      "(4, 224, 224, 3)\n",
      "(4, 224, 224, 3)\n",
      "(4, 224, 224, 3)\n",
      "(4, 224, 224, 3)\n",
      "(4, 224, 224, 3)\n",
      "(4, 224, 224, 3)\n",
      "(4, 224, 224, 3)\n",
      "(4, 224, 224, 3)\n",
      "(4, 224, 224, 3)\n",
      "(4, 224, 224, 3)\n",
      "(4, 224, 224, 3)\n",
      "(4, 224, 224, 3)\n",
      "(4, 224, 224, 3)\n",
      "(4, 224, 224, 3)\n",
      "(4, 224, 224, 3)\n",
      "(4, 224, 224, 3)\n",
      "(4, 224, 224, 3)\n",
      "(4, 224, 224, 3)\n",
      "(4, 224, 224, 3)\n",
      "(4, 224, 224, 3)\n",
      "(4, 224, 224, 3)\n",
      "(4, 224, 224, 3)\n",
      "(4, 224, 224, 3)\n",
      "(4, 224, 224, 3)\n",
      "(4, 224, 224, 3)\n",
      "(4, 224, 224, 3)\n",
      "(4, 224, 224, 3)\n",
      "(4, 224, 224, 3)\n",
      "(4, 224, 224, 3)\n",
      "(4, 224, 224, 3)\n",
      "(4, 224, 224, 3)\n",
      "(4, 224, 224, 3)\n",
      "(4, 224, 224, 3)\n",
      "(4, 224, 224, 3)\n",
      "(4, 224, 224, 3)\n",
      "(4, 224, 224, 3)\n",
      "(4, 224, 224, 3)\n",
      "(4, 224, 224, 3)\n",
      "(4, 224, 224, 3)\n",
      "(4, 224, 224, 3)\n",
      "(4, 224, 224, 3)\n",
      "(4, 224, 224, 3)\n",
      "(4, 224, 224, 3)\n",
      "(4, 224, 224, 3)\n",
      "(4, 224, 224, 3)\n",
      "(4, 224, 224, 3)\n",
      "(4, 224, 224, 3)\n",
      "(4, 224, 224, 3)\n",
      "(4, 224, 224, 3)\n",
      "(4, 224, 224, 3)\n",
      "(4, 224, 224, 3)\n",
      "(4, 224, 224, 3)\n",
      "(4, 224, 224, 3)\n",
      "(4, 224, 224, 3)\n",
      "(4, 224, 224, 3)\n",
      "(4, 224, 224, 3)\n",
      "(4, 224, 224, 3)\n",
      "(4, 224, 224, 3)\n",
      "(4, 224, 224, 3)\n",
      "(4, 224, 224, 3)\n",
      "(4, 224, 224, 3)\n",
      "(4, 224, 224, 3)\n",
      "(4, 224, 224, 3)\n",
      "(4, 224, 224, 3)\n",
      "(4, 224, 224, 3)\n",
      "(4, 224, 224, 3)\n",
      "(4, 224, 224, 3)\n",
      "(4, 224, 224, 3)\n",
      "(4, 224, 224, 3)\n",
      "(4, 224, 224, 3)\n",
      "(4, 224, 224, 3)\n",
      "(4, 224, 224, 3)\n",
      "(4, 224, 224, 3)\n",
      "(4, 224, 224, 3)\n",
      "(4, 224, 224, 3)\n",
      "(4, 224, 224, 3)\n",
      "(4, 224, 224, 3)\n",
      "(4, 224, 224, 3)\n",
      "(4, 224, 224, 3)\n",
      "(4, 224, 224, 3)\n",
      "(4, 224, 224, 3)\n",
      "(4, 224, 224, 3)\n",
      "(4, 224, 224, 3)\n",
      "(4, 224, 224, 3)\n",
      "(4, 224, 224, 3)\n",
      "(4, 224, 224, 3)\n",
      "(4, 224, 224, 3)\n",
      "(4, 224, 224, 3)\n",
      "(4, 224, 224, 3)\n",
      "(4, 224, 224, 3)\n",
      "(4, 224, 224, 3)\n",
      "(4, 224, 224, 3)\n",
      "(4, 224, 224, 3)\n",
      "(4, 224, 224, 3)\n",
      "(4, 224, 224, 3)\n",
      "(4, 224, 224, 3)\n",
      "(4, 224, 224, 3)\n",
      "(4, 224, 224, 3)\n",
      "(4, 224, 224, 3)\n",
      "(4, 224, 224, 3)\n",
      "(4, 224, 224, 3)\n",
      "(4, 224, 224, 3)\n",
      "(4, 224, 224, 3)\n",
      "(4, 224, 224, 3)\n",
      "(4, 224, 224, 3)\n",
      "(4, 224, 224, 3)\n",
      "(4, 224, 224, 3)\n",
      "(4, 224, 224, 3)\n",
      "(4, 224, 224, 3)\n",
      "(4, 224, 224, 3)\n",
      "(4, 224, 224, 3)\n",
      "(4, 224, 224, 3)\n",
      "(4, 224, 224, 3)\n",
      "(4, 224, 224, 3)\n",
      "(4, 224, 224, 3)\n",
      "(4, 224, 224, 3)\n",
      "(4, 224, 224, 3)\n",
      "(4, 224, 224, 3)\n",
      "(4, 224, 224, 3)\n",
      "(4, 224, 224, 3)\n",
      "(4, 224, 224, 3)\n",
      "(4, 224, 224, 3)\n",
      "(4, 224, 224, 3)\n",
      "(4, 224, 224, 3)\n",
      "(4, 224, 224, 3)\n",
      "(4, 224, 224, 3)\n",
      "(4, 224, 224, 3)\n",
      "(4, 224, 224, 3)\n",
      "(4, 224, 224, 3)\n",
      "(4, 224, 224, 3)\n",
      "(4, 224, 224, 3)\n",
      "(4, 224, 224, 3)\n",
      "(4, 224, 224, 3)\n",
      "(4, 224, 224, 3)\n",
      "(4, 224, 224, 3)\n",
      "(4, 224, 224, 3)\n",
      "(4, 224, 224, 3)\n",
      "(4, 224, 224, 3)\n",
      "(4, 224, 224, 3)\n",
      "(4, 224, 224, 3)\n",
      "(4, 224, 224, 3)\n",
      "(4, 224, 224, 3)\n",
      "(4, 224, 224, 3)\n",
      "(4, 224, 224, 3)\n",
      "(4, 224, 224, 3)\n",
      "(4, 224, 224, 3)\n",
      "(4, 224, 224, 3)\n",
      "(4, 224, 224, 3)\n",
      "(4, 224, 224, 3)\n",
      "(4, 224, 224, 3)\n",
      "(4, 224, 224, 3)\n",
      "(4, 224, 224, 3)\n",
      "(4, 224, 224, 3)\n",
      "(4, 224, 224, 3)\n",
      "(4, 224, 224, 3)\n",
      "(4, 224, 224, 3)\n",
      "(4, 224, 224, 3)\n"
     ]
    }
   ],
   "source": [
    "for X, y in train_dl:\n",
    "    print(X.shape)"
   ]
  },
  {
   "cell_type": "code",
   "execution_count": null,
   "metadata": {},
   "outputs": [],
   "source": []
  }
 ],
 "metadata": {
  "kernelspec": {
   "display_name": "keras",
   "language": "python",
   "name": "keras"
  },
  "language_info": {
   "codemirror_mode": {
    "name": "ipython",
    "version": 3
   },
   "file_extension": ".py",
   "mimetype": "text/x-python",
   "name": "python",
   "nbconvert_exporter": "python",
   "pygments_lexer": "ipython3",
   "version": "3.7.4"
  },
  "toc": {
   "base_numbering": 1,
   "nav_menu": {},
   "number_sections": true,
   "sideBar": true,
   "skip_h1_title": false,
   "title_cell": "Table of Contents",
   "title_sidebar": "Contents",
   "toc_cell": false,
   "toc_position": {},
   "toc_section_display": true,
   "toc_window_display": false
  }
 },
 "nbformat": 4,
 "nbformat_minor": 2
}
